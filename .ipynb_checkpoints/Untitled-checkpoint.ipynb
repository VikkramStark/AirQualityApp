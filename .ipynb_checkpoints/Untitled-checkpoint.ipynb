{
 "cells": [
  {
   "cell_type": "code",
   "execution_count": 1,
   "id": "50734c9f",
   "metadata": {},
   "outputs": [],
   "source": [
    "import requests \n",
    "import pandas as pd \n",
    "import numpy as np \n",
    "import seaborn as sns \n",
    "from matplotlib import pyplot as plt "
   ]
  },
  {
   "cell_type": "code",
   "execution_count": 2,
   "id": "8bdf3df2",
   "metadata": {},
   "outputs": [],
   "source": [
    "url = \"http://localhost:8000/gases/\"  "
   ]
  },
  {
   "cell_type": "code",
   "execution_count": 65,
   "id": "011055ab",
   "metadata": {},
   "outputs": [
    {
     "data": {
      "text/plain": [
       "[{'co2': 27142,\n",
       "  'hydrogen': 1776,\n",
       "  'id': 1,\n",
       "  'methane': 9986,\n",
       "  'timestamp': 'Tue, 19 Dec 2023 19:32:38 GMT'},\n",
       " {'co2': 27110,\n",
       "  'hydrogen': 1824,\n",
       "  'id': 2,\n",
       "  'methane': 9810,\n",
       "  'timestamp': 'Tue, 19 Dec 2023 19:32:48 GMT'},\n",
       " {'co2': 27574,\n",
       "  'hydrogen': 1760,\n",
       "  'id': 3,\n",
       "  'methane': 9698,\n",
       "  'timestamp': 'Tue, 19 Dec 2023 19:32:58 GMT'},\n",
       " {'co2': 27622,\n",
       "  'hydrogen': 1824,\n",
       "  'id': 4,\n",
       "  'methane': 9602,\n",
       "  'timestamp': 'Tue, 19 Dec 2023 19:33:08 GMT'},\n",
       " {'co2': 27334,\n",
       "  'hydrogen': 1712,\n",
       "  'id': 5,\n",
       "  'methane': 9522,\n",
       "  'timestamp': 'Tue, 19 Dec 2023 19:33:19 GMT'},\n",
       " {'co2': 27334,\n",
       "  'hydrogen': 1760,\n",
       "  'id': 6,\n",
       "  'methane': 9714,\n",
       "  'timestamp': 'Tue, 19 Dec 2023 19:33:29 GMT'},\n",
       " {'co2': 27670,\n",
       "  'hydrogen': 1760,\n",
       "  'id': 7,\n",
       "  'methane': 9554,\n",
       "  'timestamp': 'Tue, 19 Dec 2023 19:33:39 GMT'},\n",
       " {'co2': 27142,\n",
       "  'hydrogen': 1872,\n",
       "  'id': 8,\n",
       "  'methane': 9490,\n",
       "  'timestamp': 'Tue, 19 Dec 2023 19:33:50 GMT'},\n",
       " {'co2': 27286,\n",
       "  'hydrogen': 1792,\n",
       "  'id': 9,\n",
       "  'methane': 9058,\n",
       "  'timestamp': 'Tue, 19 Dec 2023 19:34:00 GMT'},\n",
       " {'co2': 26982,\n",
       "  'hydrogen': 1792,\n",
       "  'id': 10,\n",
       "  'methane': 9858,\n",
       "  'timestamp': 'Tue, 19 Dec 2023 19:34:10 GMT'},\n",
       " {'co2': 26454,\n",
       "  'hydrogen': 1728,\n",
       "  'id': 11,\n",
       "  'methane': 9858,\n",
       "  'timestamp': 'Tue, 19 Dec 2023 19:34:21 GMT'},\n",
       " {'co2': 27718,\n",
       "  'hydrogen': 1776,\n",
       "  'id': 12,\n",
       "  'methane': 10066,\n",
       "  'timestamp': 'Tue, 19 Dec 2023 19:34:31 GMT'},\n",
       " {'co2': 30919,\n",
       "  'hydrogen': 1872,\n",
       "  'id': 13,\n",
       "  'methane': 10786,\n",
       "  'timestamp': 'Tue, 19 Dec 2023 19:34:41 GMT'},\n",
       " {'co2': 30055,\n",
       "  'hydrogen': 1872,\n",
       "  'id': 14,\n",
       "  'methane': 10946,\n",
       "  'timestamp': 'Tue, 19 Dec 2023 19:34:52 GMT'},\n",
       " {'co2': 28230,\n",
       "  'hydrogen': 1968,\n",
       "  'id': 15,\n",
       "  'methane': 11186,\n",
       "  'timestamp': 'Tue, 19 Dec 2023 19:35:02 GMT'},\n",
       " {'co2': 27798,\n",
       "  'hydrogen': 1872,\n",
       "  'id': 16,\n",
       "  'methane': 11154,\n",
       "  'timestamp': 'Tue, 19 Dec 2023 19:35:12 GMT'},\n",
       " {'co2': 28406,\n",
       "  'hydrogen': 1760,\n",
       "  'id': 17,\n",
       "  'methane': 10818,\n",
       "  'timestamp': 'Tue, 19 Dec 2023 19:35:23 GMT'},\n",
       " {'co2': 28855,\n",
       "  'hydrogen': 1728,\n",
       "  'id': 18,\n",
       "  'methane': 10882,\n",
       "  'timestamp': 'Tue, 19 Dec 2023 19:35:33 GMT'},\n",
       " {'co2': 28662,\n",
       "  'hydrogen': 1856,\n",
       "  'id': 19,\n",
       "  'methane': 10834,\n",
       "  'timestamp': 'Tue, 19 Dec 2023 19:35:43 GMT'},\n",
       " {'co2': 28743,\n",
       "  'hydrogen': 1920,\n",
       "  'id': 20,\n",
       "  'methane': 10722,\n",
       "  'timestamp': 'Tue, 19 Dec 2023 19:35:53 GMT'},\n",
       " {'co2': 30135,\n",
       "  'hydrogen': 1872,\n",
       "  'id': 21,\n",
       "  'methane': 10242,\n",
       "  'timestamp': 'Tue, 19 Dec 2023 19:36:04 GMT'},\n",
       " {'co2': 30567,\n",
       "  'hydrogen': 1968,\n",
       "  'id': 22,\n",
       "  'methane': 10146,\n",
       "  'timestamp': 'Tue, 19 Dec 2023 19:36:14 GMT'},\n",
       " {'co2': 30183,\n",
       "  'hydrogen': 1824,\n",
       "  'id': 23,\n",
       "  'methane': 10146,\n",
       "  'timestamp': 'Tue, 19 Dec 2023 19:36:24 GMT'},\n",
       " {'co2': 30167,\n",
       "  'hydrogen': 1952,\n",
       "  'id': 24,\n",
       "  'methane': 10418,\n",
       "  'timestamp': 'Tue, 19 Dec 2023 19:36:35 GMT'},\n",
       " {'co2': 29463,\n",
       "  'hydrogen': 1920,\n",
       "  'id': 25,\n",
       "  'methane': 10242,\n",
       "  'timestamp': 'Tue, 19 Dec 2023 19:36:45 GMT'},\n",
       " {'co2': 28903,\n",
       "  'hydrogen': 1888,\n",
       "  'id': 26,\n",
       "  'methane': 10194,\n",
       "  'timestamp': 'Tue, 19 Dec 2023 19:36:55 GMT'},\n",
       " {'co2': 28823,\n",
       "  'hydrogen': 1856,\n",
       "  'id': 27,\n",
       "  'methane': 10146,\n",
       "  'timestamp': 'Tue, 19 Dec 2023 19:37:06 GMT'},\n",
       " {'co2': 28582,\n",
       "  'hydrogen': 1936,\n",
       "  'id': 28,\n",
       "  'methane': 10066,\n",
       "  'timestamp': 'Tue, 19 Dec 2023 19:37:16 GMT'},\n",
       " {'co2': 28390,\n",
       "  'hydrogen': 1792,\n",
       "  'id': 29,\n",
       "  'methane': 10338,\n",
       "  'timestamp': 'Tue, 19 Dec 2023 19:37:26 GMT'},\n",
       " {'co2': 27814,\n",
       "  'hydrogen': 1840,\n",
       "  'id': 30,\n",
       "  'methane': 10210,\n",
       "  'timestamp': 'Tue, 19 Dec 2023 19:37:37 GMT'},\n",
       " {'co2': 27926,\n",
       "  'hydrogen': 1872,\n",
       "  'id': 31,\n",
       "  'methane': 10242,\n",
       "  'timestamp': 'Tue, 19 Dec 2023 19:37:47 GMT'},\n",
       " {'co2': 27846,\n",
       "  'hydrogen': 1872,\n",
       "  'id': 32,\n",
       "  'methane': 9986,\n",
       "  'timestamp': 'Tue, 19 Dec 2023 19:37:57 GMT'},\n",
       " {'co2': 27638,\n",
       "  'hydrogen': 1920,\n",
       "  'id': 33,\n",
       "  'methane': 10146,\n",
       "  'timestamp': 'Tue, 19 Dec 2023 19:38:08 GMT'},\n",
       " {'co2': 27830,\n",
       "  'hydrogen': 1840,\n",
       "  'id': 34,\n",
       "  'methane': 10034,\n",
       "  'timestamp': 'Tue, 19 Dec 2023 19:38:18 GMT'},\n",
       " {'co2': 27478,\n",
       "  'hydrogen': 1856,\n",
       "  'id': 35,\n",
       "  'methane': 9906,\n",
       "  'timestamp': 'Tue, 19 Dec 2023 19:38:28 GMT'},\n",
       " {'co2': 27398,\n",
       "  'hydrogen': 1904,\n",
       "  'id': 36,\n",
       "  'methane': 10162,\n",
       "  'timestamp': 'Tue, 19 Dec 2023 19:38:39 GMT'},\n",
       " {'co2': 27510,\n",
       "  'hydrogen': 1872,\n",
       "  'id': 37,\n",
       "  'methane': 10018,\n",
       "  'timestamp': 'Tue, 19 Dec 2023 19:38:49 GMT'},\n",
       " {'co2': 27334,\n",
       "  'hydrogen': 1840,\n",
       "  'id': 38,\n",
       "  'methane': 9906,\n",
       "  'timestamp': 'Tue, 19 Dec 2023 19:38:59 GMT'},\n",
       " {'co2': 27270,\n",
       "  'hydrogen': 2128,\n",
       "  'id': 39,\n",
       "  'methane': 9922,\n",
       "  'timestamp': 'Tue, 19 Dec 2023 19:39:09 GMT'},\n",
       " {'co2': 27366,\n",
       "  'hydrogen': 1840,\n",
       "  'id': 40,\n",
       "  'methane': 9554,\n",
       "  'timestamp': 'Tue, 19 Dec 2023 19:39:26 GMT'},\n",
       " {'co2': 28038,\n",
       "  'hydrogen': 1856,\n",
       "  'id': 41,\n",
       "  'methane': 9826,\n",
       "  'timestamp': 'Tue, 19 Dec 2023 19:39:36 GMT'},\n",
       " {'co2': 27926,\n",
       "  'hydrogen': 1824,\n",
       "  'id': 42,\n",
       "  'methane': 9938,\n",
       "  'timestamp': 'Tue, 19 Dec 2023 19:39:47 GMT'},\n",
       " {'co2': 27942,\n",
       "  'hydrogen': 1808,\n",
       "  'id': 43,\n",
       "  'methane': 9778,\n",
       "  'timestamp': 'Tue, 19 Dec 2023 19:39:57 GMT'},\n",
       " {'co2': 27878,\n",
       "  'hydrogen': 1808,\n",
       "  'id': 44,\n",
       "  'methane': 9922,\n",
       "  'timestamp': 'Tue, 19 Dec 2023 19:40:07 GMT'},\n",
       " {'co2': 27270,\n",
       "  'hydrogen': 1824,\n",
       "  'id': 45,\n",
       "  'methane': 9874,\n",
       "  'timestamp': 'Tue, 19 Dec 2023 19:40:17 GMT'},\n",
       " {'co2': 27542,\n",
       "  'hydrogen': 1824,\n",
       "  'id': 46,\n",
       "  'methane': 9938,\n",
       "  'timestamp': 'Tue, 19 Dec 2023 19:40:28 GMT'},\n",
       " {'co2': 27558,\n",
       "  'hydrogen': 1552,\n",
       "  'id': 47,\n",
       "  'methane': 9890,\n",
       "  'timestamp': 'Tue, 19 Dec 2023 19:40:38 GMT'},\n",
       " {'co2': 27318,\n",
       "  'hydrogen': 1856,\n",
       "  'id': 48,\n",
       "  'methane': 10066,\n",
       "  'timestamp': 'Tue, 19 Dec 2023 19:40:48 GMT'},\n",
       " {'co2': 27286,\n",
       "  'hydrogen': 1888,\n",
       "  'id': 49,\n",
       "  'methane': 9874,\n",
       "  'timestamp': 'Tue, 19 Dec 2023 19:40:59 GMT'},\n",
       " {'co2': 27334,\n",
       "  'hydrogen': 1824,\n",
       "  'id': 50,\n",
       "  'methane': 9730,\n",
       "  'timestamp': 'Tue, 19 Dec 2023 19:41:09 GMT'},\n",
       " {'co2': 27110,\n",
       "  'hydrogen': 1808,\n",
       "  'id': 51,\n",
       "  'methane': 10290,\n",
       "  'timestamp': 'Tue, 19 Dec 2023 19:41:19 GMT'},\n",
       " {'co2': 27206,\n",
       "  'hydrogen': 1872,\n",
       "  'id': 52,\n",
       "  'methane': 9810,\n",
       "  'timestamp': 'Tue, 19 Dec 2023 19:41:30 GMT'},\n",
       " {'co2': 27030,\n",
       "  'hydrogen': 1824,\n",
       "  'id': 53,\n",
       "  'methane': 9906,\n",
       "  'timestamp': 'Tue, 19 Dec 2023 19:41:40 GMT'},\n",
       " {'co2': 27030,\n",
       "  'hydrogen': 1856,\n",
       "  'id': 54,\n",
       "  'methane': 9794,\n",
       "  'timestamp': 'Tue, 19 Dec 2023 19:41:50 GMT'},\n",
       " {'co2': 27062,\n",
       "  'hydrogen': 1760,\n",
       "  'id': 55,\n",
       "  'methane': 9682,\n",
       "  'timestamp': 'Tue, 19 Dec 2023 19:42:00 GMT'},\n",
       " {'co2': 27014,\n",
       "  'hydrogen': 1792,\n",
       "  'id': 56,\n",
       "  'methane': 9778,\n",
       "  'timestamp': 'Tue, 19 Dec 2023 19:42:11 GMT'},\n",
       " {'co2': 26918,\n",
       "  'hydrogen': 1856,\n",
       "  'id': 57,\n",
       "  'methane': 9730,\n",
       "  'timestamp': 'Tue, 19 Dec 2023 19:42:21 GMT'},\n",
       " {'co2': 26838,\n",
       "  'hydrogen': 1888,\n",
       "  'id': 58,\n",
       "  'methane': 9858,\n",
       "  'timestamp': 'Tue, 19 Dec 2023 19:42:31 GMT'},\n",
       " {'co2': 26790,\n",
       "  'hydrogen': 1760,\n",
       "  'id': 59,\n",
       "  'methane': 9826,\n",
       "  'timestamp': 'Tue, 19 Dec 2023 19:42:42 GMT'},\n",
       " {'co2': 26758,\n",
       "  'hydrogen': 1792,\n",
       "  'id': 60,\n",
       "  'methane': 9602,\n",
       "  'timestamp': 'Tue, 19 Dec 2023 19:42:52 GMT'},\n",
       " {'co2': 26390,\n",
       "  'hydrogen': 1824,\n",
       "  'id': 61,\n",
       "  'methane': 9666,\n",
       "  'timestamp': 'Tue, 19 Dec 2023 19:43:02 GMT'},\n",
       " {'co2': 26518,\n",
       "  'hydrogen': 1776,\n",
       "  'id': 62,\n",
       "  'methane': 9762,\n",
       "  'timestamp': 'Tue, 19 Dec 2023 19:43:13 GMT'},\n",
       " {'co2': 26662,\n",
       "  'hydrogen': 1872,\n",
       "  'id': 63,\n",
       "  'methane': 9730,\n",
       "  'timestamp': 'Tue, 19 Dec 2023 19:43:23 GMT'},\n",
       " {'co2': 26454,\n",
       "  'hydrogen': 1840,\n",
       "  'id': 64,\n",
       "  'methane': 9682,\n",
       "  'timestamp': 'Tue, 19 Dec 2023 19:43:33 GMT'},\n",
       " {'co2': 26246,\n",
       "  'hydrogen': 1808,\n",
       "  'id': 65,\n",
       "  'methane': 9554,\n",
       "  'timestamp': 'Tue, 19 Dec 2023 19:43:44 GMT'},\n",
       " {'co2': 26390,\n",
       "  'hydrogen': 1856,\n",
       "  'id': 66,\n",
       "  'methane': 9538,\n",
       "  'timestamp': 'Tue, 19 Dec 2023 19:43:54 GMT'},\n",
       " {'co2': 26246,\n",
       "  'hydrogen': 1808,\n",
       "  'id': 67,\n",
       "  'methane': 9554,\n",
       "  'timestamp': 'Tue, 19 Dec 2023 19:44:04 GMT'},\n",
       " {'co2': 26262,\n",
       "  'hydrogen': 1824,\n",
       "  'id': 68,\n",
       "  'methane': 9538,\n",
       "  'timestamp': 'Tue, 19 Dec 2023 19:44:14 GMT'},\n",
       " {'co2': 26406,\n",
       "  'hydrogen': 1776,\n",
       "  'id': 69,\n",
       "  'methane': 9618,\n",
       "  'timestamp': 'Tue, 19 Dec 2023 19:44:25 GMT'},\n",
       " {'co2': 26454,\n",
       "  'hydrogen': 1712,\n",
       "  'id': 70,\n",
       "  'methane': 9634,\n",
       "  'timestamp': 'Tue, 19 Dec 2023 19:44:35 GMT'},\n",
       " {'co2': 26294,\n",
       "  'hydrogen': 1856,\n",
       "  'id': 71,\n",
       "  'methane': 9666,\n",
       "  'timestamp': 'Tue, 19 Dec 2023 19:44:45 GMT'},\n",
       " {'co2': 26294,\n",
       "  'hydrogen': 1744,\n",
       "  'id': 72,\n",
       "  'methane': 9682,\n",
       "  'timestamp': 'Tue, 19 Dec 2023 19:44:56 GMT'},\n",
       " {'co2': 26454,\n",
       "  'hydrogen': 2080,\n",
       "  'id': 73,\n",
       "  'methane': 9602,\n",
       "  'timestamp': 'Tue, 19 Dec 2023 19:45:06 GMT'},\n",
       " {'co2': 26022,\n",
       "  'hydrogen': 1840,\n",
       "  'id': 74,\n",
       "  'methane': 9650,\n",
       "  'timestamp': 'Tue, 19 Dec 2023 19:45:16 GMT'},\n",
       " {'co2': 26214,\n",
       "  'hydrogen': 1808,\n",
       "  'id': 75,\n",
       "  'methane': 9522,\n",
       "  'timestamp': 'Tue, 19 Dec 2023 19:45:27 GMT'},\n",
       " {'co2': 25910,\n",
       "  'hydrogen': 1760,\n",
       "  'id': 76,\n",
       "  'methane': 9538,\n",
       "  'timestamp': 'Tue, 19 Dec 2023 19:45:37 GMT'},\n",
       " {'co2': 26166,\n",
       "  'hydrogen': 1824,\n",
       "  'id': 77,\n",
       "  'methane': 9570,\n",
       "  'timestamp': 'Tue, 19 Dec 2023 19:45:47 GMT'},\n",
       " {'co2': 25894,\n",
       "  'hydrogen': 1888,\n",
       "  'id': 78,\n",
       "  'methane': 9506,\n",
       "  'timestamp': 'Tue, 19 Dec 2023 19:45:58 GMT'},\n",
       " {'co2': 25894,\n",
       "  'hydrogen': 1824,\n",
       "  'id': 79,\n",
       "  'methane': 9570,\n",
       "  'timestamp': 'Tue, 19 Dec 2023 19:46:08 GMT'},\n",
       " {'co2': 25830,\n",
       "  'hydrogen': 1840,\n",
       "  'id': 80,\n",
       "  'methane': 9570,\n",
       "  'timestamp': 'Tue, 19 Dec 2023 19:46:18 GMT'},\n",
       " {'co2': 25766,\n",
       "  'hydrogen': 1936,\n",
       "  'id': 81,\n",
       "  'methane': 9538,\n",
       "  'timestamp': 'Tue, 19 Dec 2023 19:46:28 GMT'},\n",
       " {'co2': 25766,\n",
       "  'hydrogen': 1888,\n",
       "  'id': 82,\n",
       "  'methane': 9442,\n",
       "  'timestamp': 'Tue, 19 Dec 2023 19:46:39 GMT'},\n",
       " {'co2': 25686,\n",
       "  'hydrogen': 1824,\n",
       "  'id': 83,\n",
       "  'methane': 9666,\n",
       "  'timestamp': 'Tue, 19 Dec 2023 19:46:49 GMT'},\n",
       " {'co2': 25430,\n",
       "  'hydrogen': 1792,\n",
       "  'id': 84,\n",
       "  'methane': 9634,\n",
       "  'timestamp': 'Tue, 19 Dec 2023 19:46:59 GMT'},\n",
       " {'co2': 25622,\n",
       "  'hydrogen': 1872,\n",
       "  'id': 85,\n",
       "  'methane': 9570,\n",
       "  'timestamp': 'Tue, 19 Dec 2023 19:47:10 GMT'},\n",
       " {'co2': 25894,\n",
       "  'hydrogen': 1808,\n",
       "  'id': 86,\n",
       "  'methane': 9522,\n",
       "  'timestamp': 'Tue, 19 Dec 2023 19:47:20 GMT'},\n",
       " {'co2': 25638,\n",
       "  'hydrogen': 1744,\n",
       "  'id': 87,\n",
       "  'methane': 9282,\n",
       "  'timestamp': 'Tue, 19 Dec 2023 19:47:30 GMT'},\n",
       " {'co2': 25718,\n",
       "  'hydrogen': 1792,\n",
       "  'id': 88,\n",
       "  'methane': 9506,\n",
       "  'timestamp': 'Tue, 19 Dec 2023 19:47:41 GMT'},\n",
       " {'co2': 25686,\n",
       "  'hydrogen': 1872,\n",
       "  'id': 89,\n",
       "  'methane': 9426,\n",
       "  'timestamp': 'Tue, 19 Dec 2023 19:47:51 GMT'},\n",
       " {'co2': 25526,\n",
       "  'hydrogen': 1808,\n",
       "  'id': 90,\n",
       "  'methane': 9602,\n",
       "  'timestamp': 'Tue, 19 Dec 2023 19:48:01 GMT'},\n",
       " {'co2': 25702,\n",
       "  'hydrogen': 1808,\n",
       "  'id': 91,\n",
       "  'methane': 9618,\n",
       "  'timestamp': 'Tue, 19 Dec 2023 19:48:12 GMT'},\n",
       " {'co2': 25558,\n",
       "  'hydrogen': 1824,\n",
       "  'id': 92,\n",
       "  'methane': 9314,\n",
       "  'timestamp': 'Tue, 19 Dec 2023 19:48:22 GMT'},\n",
       " {'co2': 25302,\n",
       "  'hydrogen': 1760,\n",
       "  'id': 93,\n",
       "  'methane': 9234,\n",
       "  'timestamp': 'Tue, 19 Dec 2023 19:48:32 GMT'},\n",
       " {'co2': 25782,\n",
       "  'hydrogen': 1840,\n",
       "  'id': 94,\n",
       "  'methane': 9570,\n",
       "  'timestamp': 'Tue, 19 Dec 2023 19:48:43 GMT'},\n",
       " {'co2': 25782,\n",
       "  'hydrogen': 1792,\n",
       "  'id': 95,\n",
       "  'methane': 9602,\n",
       "  'timestamp': 'Tue, 19 Dec 2023 19:48:53 GMT'},\n",
       " {'co2': 25734,\n",
       "  'hydrogen': 1824,\n",
       "  'id': 96,\n",
       "  'methane': 9394,\n",
       "  'timestamp': 'Tue, 19 Dec 2023 19:49:07 GMT'},\n",
       " {'co2': 25574,\n",
       "  'hydrogen': 1792,\n",
       "  'id': 97,\n",
       "  'methane': 9410,\n",
       "  'timestamp': 'Tue, 19 Dec 2023 19:49:17 GMT'},\n",
       " {'co2': 25414,\n",
       "  'hydrogen': 1856,\n",
       "  'id': 98,\n",
       "  'methane': 9506,\n",
       "  'timestamp': 'Tue, 19 Dec 2023 19:49:27 GMT'},\n",
       " {'co2': 25510,\n",
       "  'hydrogen': 1696,\n",
       "  'id': 99,\n",
       "  'methane': 9362,\n",
       "  'timestamp': 'Tue, 19 Dec 2023 19:49:38 GMT'},\n",
       " {'co2': 25302,\n",
       "  'hydrogen': 1824,\n",
       "  'id': 100,\n",
       "  'methane': 9314,\n",
       "  'timestamp': 'Tue, 19 Dec 2023 19:49:48 GMT'},\n",
       " {'co2': 25366,\n",
       "  'hydrogen': 1728,\n",
       "  'id': 101,\n",
       "  'methane': 9426,\n",
       "  'timestamp': 'Tue, 19 Dec 2023 19:49:58 GMT'},\n",
       " {'co2': 25142,\n",
       "  'hydrogen': 1744,\n",
       "  'id': 102,\n",
       "  'methane': 9538,\n",
       "  'timestamp': 'Tue, 19 Dec 2023 19:50:09 GMT'},\n",
       " {'co2': 25222,\n",
       "  'hydrogen': 1840,\n",
       "  'id': 103,\n",
       "  'methane': 9474,\n",
       "  'timestamp': 'Tue, 19 Dec 2023 19:50:19 GMT'},\n",
       " {'co2': 25142,\n",
       "  'hydrogen': 1888,\n",
       "  'id': 104,\n",
       "  'methane': 9346,\n",
       "  'timestamp': 'Tue, 19 Dec 2023 19:50:29 GMT'},\n",
       " {'co2': 25270,\n",
       "  'hydrogen': 1856,\n",
       "  'id': 105,\n",
       "  'methane': 9346,\n",
       "  'timestamp': 'Tue, 19 Dec 2023 19:50:40 GMT'},\n",
       " {'co2': 25270,\n",
       "  'hydrogen': 1872,\n",
       "  'id': 106,\n",
       "  'methane': 9298,\n",
       "  'timestamp': 'Tue, 19 Dec 2023 19:50:50 GMT'},\n",
       " {'co2': 25430,\n",
       "  'hydrogen': 1920,\n",
       "  'id': 107,\n",
       "  'methane': 9442,\n",
       "  'timestamp': 'Tue, 19 Dec 2023 19:51:00 GMT'},\n",
       " {'co2': 25334,\n",
       "  'hydrogen': 1824,\n",
       "  'id': 108,\n",
       "  'methane': 9186,\n",
       "  'timestamp': 'Tue, 19 Dec 2023 19:51:11 GMT'},\n",
       " {'co2': 25558,\n",
       "  'hydrogen': 1840,\n",
       "  'id': 109,\n",
       "  'methane': 9410,\n",
       "  'timestamp': 'Tue, 19 Dec 2023 19:51:21 GMT'},\n",
       " {'co2': 25238,\n",
       "  'hydrogen': 1712,\n",
       "  'id': 110,\n",
       "  'methane': 9282,\n",
       "  'timestamp': 'Tue, 19 Dec 2023 19:51:31 GMT'},\n",
       " {'co2': 25318,\n",
       "  'hydrogen': 1744,\n",
       "  'id': 111,\n",
       "  'methane': 9154,\n",
       "  'timestamp': 'Tue, 19 Dec 2023 19:51:42 GMT'},\n",
       " {'co2': 25350,\n",
       "  'hydrogen': 1840,\n",
       "  'id': 112,\n",
       "  'methane': 9202,\n",
       "  'timestamp': 'Tue, 19 Dec 2023 19:51:52 GMT'},\n",
       " {'co2': 25286,\n",
       "  'hydrogen': 1808,\n",
       "  'id': 113,\n",
       "  'methane': 9282,\n",
       "  'timestamp': 'Tue, 19 Dec 2023 19:52:02 GMT'},\n",
       " {'co2': 25254,\n",
       "  'hydrogen': 1840,\n",
       "  'id': 114,\n",
       "  'methane': 9298,\n",
       "  'timestamp': 'Tue, 19 Dec 2023 19:52:13 GMT'},\n",
       " {'co2': 25174,\n",
       "  'hydrogen': 1776,\n",
       "  'id': 115,\n",
       "  'methane': 9282,\n",
       "  'timestamp': 'Tue, 19 Dec 2023 19:52:23 GMT'},\n",
       " {'co2': 25126,\n",
       "  'hydrogen': 1904,\n",
       "  'id': 116,\n",
       "  'methane': 9234,\n",
       "  'timestamp': 'Tue, 19 Dec 2023 19:52:33 GMT'},\n",
       " {'co2': 25430,\n",
       "  'hydrogen': 1936,\n",
       "  'id': 117,\n",
       "  'methane': 9474,\n",
       "  'timestamp': 'Tue, 19 Dec 2023 19:52:44 GMT'},\n",
       " {'co2': 25238,\n",
       "  'hydrogen': 1808,\n",
       "  'id': 118,\n",
       "  'methane': 9314,\n",
       "  'timestamp': 'Tue, 19 Dec 2023 19:52:54 GMT'},\n",
       " {'co2': 24886,\n",
       "  'hydrogen': 1760,\n",
       "  'id': 119,\n",
       "  'methane': 8978,\n",
       "  'timestamp': 'Tue, 19 Dec 2023 19:53:04 GMT'},\n",
       " {'co2': 24742,\n",
       "  'hydrogen': 1856,\n",
       "  'id': 120,\n",
       "  'methane': 9010,\n",
       "  'timestamp': 'Tue, 19 Dec 2023 19:53:15 GMT'},\n",
       " {'co2': 24870,\n",
       "  'hydrogen': 1808,\n",
       "  'id': 121,\n",
       "  'methane': 9138,\n",
       "  'timestamp': 'Tue, 19 Dec 2023 19:53:25 GMT'},\n",
       " {'co2': 24918,\n",
       "  'hydrogen': 1808,\n",
       "  'id': 122,\n",
       "  'methane': 9234,\n",
       "  'timestamp': 'Tue, 19 Dec 2023 19:53:35 GMT'},\n",
       " {'co2': 25110,\n",
       "  'hydrogen': 1712,\n",
       "  'id': 123,\n",
       "  'methane': 9234,\n",
       "  'timestamp': 'Tue, 19 Dec 2023 19:53:45 GMT'},\n",
       " {'co2': 25158,\n",
       "  'hydrogen': 1808,\n",
       "  'id': 124,\n",
       "  'methane': 9042,\n",
       "  'timestamp': 'Tue, 19 Dec 2023 19:53:56 GMT'},\n",
       " {'co2': 25302,\n",
       "  'hydrogen': 1792,\n",
       "  'id': 125,\n",
       "  'methane': 9122,\n",
       "  'timestamp': 'Tue, 19 Dec 2023 19:54:09 GMT'},\n",
       " {'co2': 25222,\n",
       "  'hydrogen': 1760,\n",
       "  'id': 126,\n",
       "  'methane': 9234,\n",
       "  'timestamp': 'Tue, 19 Dec 2023 19:54:19 GMT'},\n",
       " {'co2': 25094,\n",
       "  'hydrogen': 1808,\n",
       "  'id': 127,\n",
       "  'methane': 9090,\n",
       "  'timestamp': 'Tue, 19 Dec 2023 19:54:30 GMT'},\n",
       " {'co2': 24774,\n",
       "  'hydrogen': 1792,\n",
       "  'id': 128,\n",
       "  'methane': 9266,\n",
       "  'timestamp': 'Tue, 19 Dec 2023 19:54:40 GMT'},\n",
       " {'co2': 25110,\n",
       "  'hydrogen': 1728,\n",
       "  'id': 129,\n",
       "  'methane': 9042,\n",
       "  'timestamp': 'Tue, 19 Dec 2023 19:54:50 GMT'},\n",
       " {'co2': 24565,\n",
       "  'hydrogen': 1792,\n",
       "  'id': 130,\n",
       "  'methane': 8930,\n",
       "  'timestamp': 'Tue, 19 Dec 2023 19:55:01 GMT'},\n",
       " {'co2': 24565,\n",
       "  'hydrogen': 1728,\n",
       "  'id': 131,\n",
       "  'methane': 9090,\n",
       "  'timestamp': 'Tue, 19 Dec 2023 19:55:11 GMT'},\n",
       " {'co2': 24902,\n",
       "  'hydrogen': 1776,\n",
       "  'id': 132,\n",
       "  'methane': 9234,\n",
       "  'timestamp': 'Tue, 19 Dec 2023 19:55:21 GMT'},\n",
       " {'co2': 25222,\n",
       "  'hydrogen': 1792,\n",
       "  'id': 133,\n",
       "  'methane': 9346,\n",
       "  'timestamp': 'Tue, 19 Dec 2023 19:55:32 GMT'},\n",
       " {'co2': 22693,\n",
       "  'hydrogen': 1776,\n",
       "  'id': 134,\n",
       "  'methane': 8402,\n",
       "  'timestamp': 'Tue, 19 Dec 2023 19:55:42 GMT'},\n",
       " {'co2': 23845,\n",
       "  'hydrogen': 1712,\n",
       "  'id': 135,\n",
       "  'methane': 8514,\n",
       "  'timestamp': 'Tue, 19 Dec 2023 19:55:52 GMT'},\n",
       " {'co2': 25222,\n",
       "  'hydrogen': 1744,\n",
       "  'id': 136,\n",
       "  'methane': 8962,\n",
       "  'timestamp': 'Tue, 19 Dec 2023 19:56:03 GMT'},\n",
       " {'co2': 22789,\n",
       "  'hydrogen': 1696,\n",
       "  'id': 137,\n",
       "  'methane': 7201,\n",
       "  'timestamp': 'Tue, 19 Dec 2023 20:59:38 GMT'},\n",
       " {'co2': 22853,\n",
       "  'hydrogen': 1632,\n",
       "  'id': 138,\n",
       "  'methane': 6929,\n",
       "  'timestamp': 'Tue, 19 Dec 2023 20:59:48 GMT'},\n",
       " {'co2': 22885,\n",
       "  'hydrogen': 1536,\n",
       "  'id': 139,\n",
       "  'methane': 6609,\n",
       "  'timestamp': 'Tue, 19 Dec 2023 20:59:58 GMT'},\n",
       " {'co2': 23141,\n",
       "  'hydrogen': 1552,\n",
       "  'id': 140,\n",
       "  'methane': 6465,\n",
       "  'timestamp': 'Tue, 19 Dec 2023 21:00:09 GMT'}]"
      ]
     },
     "execution_count": 65,
     "metadata": {},
     "output_type": "execute_result"
    }
   ],
   "source": [
    "r = requests.get(url) \n",
    "res = r.json() \n",
    "res "
   ]
  },
  {
   "cell_type": "code",
   "execution_count": 66,
   "id": "107e588b",
   "metadata": {},
   "outputs": [],
   "source": [
    "df = pd.DataFrame.from_dict(res, orient = \"columns\")  "
   ]
  },
  {
   "cell_type": "code",
   "execution_count": 67,
   "id": "3ab210fe",
   "metadata": {},
   "outputs": [
    {
     "data": {
      "text/plain": [
       "co2           int64\n",
       "hydrogen      int64\n",
       "id            int64\n",
       "methane       int64\n",
       "timestamp    object\n",
       "dtype: object"
      ]
     },
     "execution_count": 67,
     "metadata": {},
     "output_type": "execute_result"
    }
   ],
   "source": [
    "df.dtypes "
   ]
  },
  {
   "cell_type": "code",
   "execution_count": 68,
   "id": "b668f156",
   "metadata": {},
   "outputs": [
    {
     "data": {
      "text/plain": [
       "(140, 5)"
      ]
     },
     "execution_count": 68,
     "metadata": {},
     "output_type": "execute_result"
    }
   ],
   "source": [
    "df.shape "
   ]
  },
  {
   "cell_type": "code",
   "execution_count": 69,
   "id": "54a17d5d",
   "metadata": {},
   "outputs": [
    {
     "data": {
      "text/html": [
       "<div>\n",
       "<style scoped>\n",
       "    .dataframe tbody tr th:only-of-type {\n",
       "        vertical-align: middle;\n",
       "    }\n",
       "\n",
       "    .dataframe tbody tr th {\n",
       "        vertical-align: top;\n",
       "    }\n",
       "\n",
       "    .dataframe thead th {\n",
       "        text-align: right;\n",
       "    }\n",
       "</style>\n",
       "<table border=\"1\" class=\"dataframe\">\n",
       "  <thead>\n",
       "    <tr style=\"text-align: right;\">\n",
       "      <th></th>\n",
       "      <th>co2</th>\n",
       "      <th>hydrogen</th>\n",
       "      <th>id</th>\n",
       "      <th>methane</th>\n",
       "      <th>timestamp</th>\n",
       "    </tr>\n",
       "  </thead>\n",
       "  <tbody>\n",
       "    <tr>\n",
       "      <th>0</th>\n",
       "      <td>27142</td>\n",
       "      <td>1776</td>\n",
       "      <td>1</td>\n",
       "      <td>9986</td>\n",
       "      <td>Tue, 19 Dec 2023 19:32:38 GMT</td>\n",
       "    </tr>\n",
       "    <tr>\n",
       "      <th>1</th>\n",
       "      <td>27110</td>\n",
       "      <td>1824</td>\n",
       "      <td>2</td>\n",
       "      <td>9810</td>\n",
       "      <td>Tue, 19 Dec 2023 19:32:48 GMT</td>\n",
       "    </tr>\n",
       "    <tr>\n",
       "      <th>2</th>\n",
       "      <td>27574</td>\n",
       "      <td>1760</td>\n",
       "      <td>3</td>\n",
       "      <td>9698</td>\n",
       "      <td>Tue, 19 Dec 2023 19:32:58 GMT</td>\n",
       "    </tr>\n",
       "    <tr>\n",
       "      <th>3</th>\n",
       "      <td>27622</td>\n",
       "      <td>1824</td>\n",
       "      <td>4</td>\n",
       "      <td>9602</td>\n",
       "      <td>Tue, 19 Dec 2023 19:33:08 GMT</td>\n",
       "    </tr>\n",
       "    <tr>\n",
       "      <th>4</th>\n",
       "      <td>27334</td>\n",
       "      <td>1712</td>\n",
       "      <td>5</td>\n",
       "      <td>9522</td>\n",
       "      <td>Tue, 19 Dec 2023 19:33:19 GMT</td>\n",
       "    </tr>\n",
       "  </tbody>\n",
       "</table>\n",
       "</div>"
      ],
      "text/plain": [
       "     co2  hydrogen  id  methane                      timestamp\n",
       "0  27142      1776   1     9986  Tue, 19 Dec 2023 19:32:38 GMT\n",
       "1  27110      1824   2     9810  Tue, 19 Dec 2023 19:32:48 GMT\n",
       "2  27574      1760   3     9698  Tue, 19 Dec 2023 19:32:58 GMT\n",
       "3  27622      1824   4     9602  Tue, 19 Dec 2023 19:33:08 GMT\n",
       "4  27334      1712   5     9522  Tue, 19 Dec 2023 19:33:19 GMT"
      ]
     },
     "execution_count": 69,
     "metadata": {},
     "output_type": "execute_result"
    }
   ],
   "source": [
    "df.head() "
   ]
  },
  {
   "cell_type": "code",
   "execution_count": 70,
   "id": "2c3e0060",
   "metadata": {},
   "outputs": [],
   "source": [
    "df['timestamp'] = pd.to_datetime(df[\"timestamp\"]) "
   ]
  },
  {
   "cell_type": "code",
   "execution_count": 71,
   "id": "1f274bfe",
   "metadata": {},
   "outputs": [],
   "source": [
    "feature_columns = [\"co2\", 'hydrogen','methane'] "
   ]
  },
  {
   "cell_type": "code",
   "execution_count": 72,
   "id": "83d3c810",
   "metadata": {},
   "outputs": [
    {
     "data": {
      "image/png": "[encoded data removed]",
      "text/plain": [
       "<Figure size 1400x2100 with 3 Axes>"
      ]
     },
     "metadata": {},
     "output_type": "display_data"
    }
   ],
   "source": [
    "sns.pairplot(data = df,x_vars = 'timestamp', y_vars= feature_columns, height = 7, aspect = 2)  \n",
    "plt.show()"
   ]
  },
  {
   "cell_type": "code",
   "execution_count": 73,
   "id": "6f10d9d5",
   "metadata": {},
   "outputs": [
    {
     "data": {
      "image/png": "[encoded data removed]",
      "text/plain": [
       "<Figure size 640x480 with 1 Axes>"
      ]
     },
     "metadata": {},
     "output_type": "display_data"
    },
    {
     "data": {
      "image/png": "[encoded data removed]",
      "text/plain": [
       "<Figure size 640x480 with 1 Axes>"
      ]
     },
     "metadata": {},
     "output_type": "display_data"
    },
    {
     "data": {
      "image/png": "[encoded data removed]",
      "text/plain": [
       "<Figure size 640x480 with 1 Axes>"
      ]
     },
     "metadata": {},
     "output_type": "display_data"
    }
   ],
   "source": [
    "for i in feature_columns:\n",
    "    sns.barplot(data = df, x = 'timestamp', y = i) \n",
    "    plt.show() "
   ]
  },
  {
   "cell_type": "code",
   "execution_count": 74,
   "id": "57e5457a",
   "metadata": {},
   "outputs": [
    {
     "data": {
      "text/plain": [
       "0      1776\n",
       "1      1824\n",
       "2      1760\n",
       "3      1824\n",
       "4      1712\n",
       "       ... \n",
       "135    1744\n",
       "136    1696\n",
       "137    1632\n",
       "138    1536\n",
       "139    1552\n",
       "Name: hydrogen, Length: 140, dtype: int64"
      ]
     },
     "execution_count": 74,
     "metadata": {},
     "output_type": "execute_result"
    }
   ],
   "source": [
    "df[\"hydrogen\"]"
   ]
  },
  {
   "cell_type": "code",
   "execution_count": 75,
   "id": "872da490",
   "metadata": {},
   "outputs": [
    {
     "data": {
      "text/plain": [
       "<Axes: >"
      ]
     },
     "execution_count": 75,
     "metadata": {},
     "output_type": "execute_result"
    },
    {
     "data": {
      "image/png": "[encoded data removed]",
      "text/plain": [
       "<Figure size 640x480 with 1 Axes>"
      ]
     },
     "metadata": {},
     "output_type": "display_data"
    }
   ],
   "source": [
    "sns.lineplot(data = df[feature_columns]) "
   ]
  },
  {
   "cell_type": "code",
   "execution_count": 80,
   "id": "db4658cf",
   "metadata": {},
   "outputs": [],
   "source": [
    "df[\"hour\"] = df[\"timestamp\"].dt.hour \n",
    "df[\"minute\"] = df[\"timestamp\"].dt.minute \n",
    "df[\"second\"] = df[\"timestamp\"].dt.second "
   ]
  },
  {
   "cell_type": "code",
   "execution_count": 81,
   "id": "5472eb57",
   "metadata": {},
   "outputs": [
    {
     "data": {
      "text/html": [
       "<div>\n",
       "<style scoped>\n",
       "    .dataframe tbody tr th:only-of-type {\n",
       "        vertical-align: middle;\n",
       "    }\n",
       "\n",
       "    .dataframe tbody tr th {\n",
       "        vertical-align: top;\n",
       "    }\n",
       "\n",
       "    .dataframe thead th {\n",
       "        text-align: right;\n",
       "    }\n",
       "</style>\n",
       "<table border=\"1\" class=\"dataframe\">\n",
       "  <thead>\n",
       "    <tr style=\"text-align: right;\">\n",
       "      <th></th>\n",
       "      <th>co2</th>\n",
       "      <th>hydrogen</th>\n",
       "      <th>id</th>\n",
       "      <th>methane</th>\n",
       "      <th>timestamp</th>\n",
       "      <th>hour</th>\n",
       "      <th>minute</th>\n",
       "      <th>second</th>\n",
       "    </tr>\n",
       "  </thead>\n",
       "  <tbody>\n",
       "    <tr>\n",
       "      <th>0</th>\n",
       "      <td>27142</td>\n",
       "      <td>1776</td>\n",
       "      <td>1</td>\n",
       "      <td>9986</td>\n",
       "      <td>2023-12-19 19:32:38+00:00</td>\n",
       "      <td>19</td>\n",
       "      <td>32</td>\n",
       "      <td>38</td>\n",
       "    </tr>\n",
       "    <tr>\n",
       "      <th>1</th>\n",
       "      <td>27110</td>\n",
       "      <td>1824</td>\n",
       "      <td>2</td>\n",
       "      <td>9810</td>\n",
       "      <td>2023-12-19 19:32:48+00:00</td>\n",
       "      <td>19</td>\n",
       "      <td>32</td>\n",
       "      <td>48</td>\n",
       "    </tr>\n",
       "    <tr>\n",
       "      <th>2</th>\n",
       "      <td>27574</td>\n",
       "      <td>1760</td>\n",
       "      <td>3</td>\n",
       "      <td>9698</td>\n",
       "      <td>2023-12-19 19:32:58+00:00</td>\n",
       "      <td>19</td>\n",
       "      <td>32</td>\n",
       "      <td>58</td>\n",
       "    </tr>\n",
       "    <tr>\n",
       "      <th>3</th>\n",
       "      <td>27622</td>\n",
       "      <td>1824</td>\n",
       "      <td>4</td>\n",
       "      <td>9602</td>\n",
       "      <td>2023-12-19 19:33:08+00:00</td>\n",
       "      <td>19</td>\n",
       "      <td>33</td>\n",
       "      <td>8</td>\n",
       "    </tr>\n",
       "    <tr>\n",
       "      <th>4</th>\n",
       "      <td>27334</td>\n",
       "      <td>1712</td>\n",
       "      <td>5</td>\n",
       "      <td>9522</td>\n",
       "      <td>2023-12-19 19:33:19+00:00</td>\n",
       "      <td>19</td>\n",
       "      <td>33</td>\n",
       "      <td>19</td>\n",
       "    </tr>\n",
       "  </tbody>\n",
       "</table>\n",
       "</div>"
      ],
      "text/plain": [
       "     co2  hydrogen  id  methane                 timestamp  hour  minute  \\\n",
       "0  27142      1776   1     9986 2023-12-19 19:32:38+00:00    19      32   \n",
       "1  27110      1824   2     9810 2023-12-19 19:32:48+00:00    19      32   \n",
       "2  27574      1760   3     9698 2023-12-19 19:32:58+00:00    19      32   \n",
       "3  27622      1824   4     9602 2023-12-19 19:33:08+00:00    19      33   \n",
       "4  27334      1712   5     9522 2023-12-19 19:33:19+00:00    19      33   \n",
       "\n",
       "   second  \n",
       "0      38  \n",
       "1      48  \n",
       "2      58  \n",
       "3       8  \n",
       "4      19  "
      ]
     },
     "execution_count": 81,
     "metadata": {},
     "output_type": "execute_result"
    }
   ],
   "source": [
    "df.head() "
   ]
  },
  {
   "cell_type": "code",
   "execution_count": null,
   "id": "17208204",
   "metadata": {},
   "outputs": [],
   "source": []
  },
  {
   "cell_type": "code",
   "execution_count": 124,
   "id": "1c7ce43f",
   "metadata": {},
   "outputs": [],
   "source": [
    "from sklearn.ensemble import RandomForestRegressor\n",
    "from sklearn.model_selection import train_test_split \n",
    "from sklearn.preprocessing import StandardScaler "
   ]
  },
  {
   "cell_type": "code",
   "execution_count": 30,
   "id": "2447fc96",
   "metadata": {},
   "outputs": [],
   "source": [
    "hydrogen_model = RandomForestRegressor() \n",
    "co2_model = RandomForestRegressor()  \n",
    "methane_model = RandomForestRegressor()  "
   ]
  },
  {
   "cell_type": "code",
   "execution_count": 86,
   "id": "b17837be",
   "metadata": {},
   "outputs": [],
   "source": [
    "hydrogen_features = df[[\"hour\",\"minute\",\"second\",\"hydrogen\"]]  \n",
    "  "
   ]
  },
  {
   "cell_type": "code",
   "execution_count": 112,
   "id": "67bb8a4a",
   "metadata": {},
   "outputs": [],
   "source": [
    "x_train, x_test, y_train, y_test = train_test_split(hydrogen_features.drop(\"hydrogen\", axis = 1), hydrogen_features['hydrogen'], test_size = 0.2) "
   ]
  },
  {
   "cell_type": "code",
   "execution_count": 113,
   "id": "0434fe93",
   "metadata": {},
   "outputs": [
    {
     "data": {
      "text/plain": [
       "(112, 3)"
      ]
     },
     "execution_count": 113,
     "metadata": {},
     "output_type": "execute_result"
    }
   ],
   "source": [
    "x_train.shape "
   ]
  },
  {
   "cell_type": "code",
   "execution_count": 114,
   "id": "c56534d4",
   "metadata": {},
   "outputs": [
    {
     "data": {
      "text/plain": [
       "(112,)"
      ]
     },
     "execution_count": 114,
     "metadata": {},
     "output_type": "execute_result"
    }
   ],
   "source": [
    "y_train.shape "
   ]
  },
  {
   "cell_type": "code",
   "execution_count": 115,
   "id": "f6171429",
   "metadata": {},
   "outputs": [],
   "source": [
    "y_test = np.array(y_test).reshape(-1,1) \n",
    "y_train = np.array(y_train).reshape(-1,1) "
   ]
  },
  {
   "cell_type": "code",
   "execution_count": 116,
   "id": "1446fed4",
   "metadata": {},
   "outputs": [],
   "source": [
    "model = RandomForestRegressor() "
   ]
  },
  {
   "cell_type": "code",
   "execution_count": 117,
   "id": "9593de75",
   "metadata": {},
   "outputs": [
    {
     "data": {
      "text/plain": [
       "((112, 3), (112, 1))"
      ]
     },
     "execution_count": 117,
     "metadata": {},
     "output_type": "execute_result"
    }
   ],
   "source": [
    "x_train.shape , y_train.shape "
   ]
  },
  {
   "cell_type": "code",
   "execution_count": 125,
   "id": "d0f895d9",
   "metadata": {},
   "outputs": [],
   "source": [
    "scaler = StandardScaler() "
   ]
  },
  {
   "cell_type": "code",
   "execution_count": null,
   "id": "a9536b14",
   "metadata": {},
   "outputs": [],
   "source": []
  },
  {
   "cell_type": "code",
   "execution_count": null,
   "id": "ee74bb89",
   "metadata": {},
   "outputs": [],
   "source": []
  },
  {
   "cell_type": "code",
   "execution_count": 118,
   "id": "33bb6fba",
   "metadata": {},
   "outputs": [
    {
     "name": "stderr",
     "output_type": "stream",
     "text": [
      "C:\\Users\\Stark\\AppData\\Local\\Temp\\ipykernel_35420\\940050797.py:1: DataConversionWarning: A column-vector y was passed when a 1d array was expected. Please change the shape of y to (n_samples,), for example using ravel().\n",
      "  model.fit(x_train, y_train)\n"
     ]
    },
    {
     "data": {
      "text/html": [
       "<style>#sk-container-id-1 {color: black;background-color: white;}#sk-container-id-1 pre{padding: 0;}#sk-container-id-1 div.sk-toggleable {background-color: white;}#sk-container-id-1 label.sk-toggleable__label {cursor: pointer;display: block;width: 100%;margin-bottom: 0;padding: 0.3em;box-sizing: border-box;text-align: center;}#sk-container-id-1 label.sk-toggleable__label-arrow:before {content: \"▸\";float: left;margin-right: 0.25em;color: #696969;}#sk-container-id-1 label.sk-toggleable__label-arrow:hover:before {color: black;}#sk-container-id-1 div.sk-estimator:hover label.sk-toggleable__label-arrow:before {color: black;}#sk-container-id-1 div.sk-toggleable__content {max-height: 0;max-width: 0;overflow: hidden;text-align: left;background-color: #f0f8ff;}#sk-container-id-1 div.sk-toggleable__content pre {margin: 0.2em;color: black;border-radius: 0.25em;background-color: #f0f8ff;}#sk-container-id-1 input.sk-toggleable__control:checked~div.sk-toggleable__content {max-height: 200px;max-width: 100%;overflow: auto;}#sk-container-id-1 input.sk-toggleable__control:checked~label.sk-toggleable__label-arrow:before {content: \"▾\";}#sk-container-id-1 div.sk-estimator input.sk-toggleable__control:checked~label.sk-toggleable__label {background-color: #d4ebff;}#sk-container-id-1 div.sk-label input.sk-toggleable__control:checked~label.sk-toggleable__label {background-color: #d4ebff;}#sk-container-id-1 input.sk-hidden--visually {border: 0;clip: rect(1px 1px 1px 1px);clip: rect(1px, 1px, 1px, 1px);height: 1px;margin: -1px;overflow: hidden;padding: 0;position: absolute;width: 1px;}#sk-container-id-1 div.sk-estimator {font-family: monospace;background-color: #f0f8ff;border: 1px dotted black;border-radius: 0.25em;box-sizing: border-box;margin-bottom: 0.5em;}#sk-container-id-1 div.sk-estimator:hover {background-color: #d4ebff;}#sk-container-id-1 div.sk-parallel-item::after {content: \"\";width: 100%;border-bottom: 1px solid gray;flex-grow: 1;}#sk-container-id-1 div.sk-label:hover label.sk-toggleable__label {background-color: #d4ebff;}#sk-container-id-1 div.sk-serial::before {content: \"\";position: absolute;border-left: 1px solid gray;box-sizing: border-box;top: 0;bottom: 0;left: 50%;z-index: 0;}#sk-container-id-1 div.sk-serial {display: flex;flex-direction: column;align-items: center;background-color: white;padding-right: 0.2em;padding-left: 0.2em;position: relative;}#sk-container-id-1 div.sk-item {position: relative;z-index: 1;}#sk-container-id-1 div.sk-parallel {display: flex;align-items: stretch;justify-content: center;background-color: white;position: relative;}#sk-container-id-1 div.sk-item::before, #sk-container-id-1 div.sk-parallel-item::before {content: \"\";position: absolute;border-left: 1px solid gray;box-sizing: border-box;top: 0;bottom: 0;left: 50%;z-index: -1;}#sk-container-id-1 div.sk-parallel-item {display: flex;flex-direction: column;z-index: 1;position: relative;background-color: white;}#sk-container-id-1 div.sk-parallel-item:first-child::after {align-self: flex-end;width: 50%;}#sk-container-id-1 div.sk-parallel-item:last-child::after {align-self: flex-start;width: 50%;}#sk-container-id-1 div.sk-parallel-item:only-child::after {width: 0;}#sk-container-id-1 div.sk-dashed-wrapped {border: 1px dashed gray;margin: 0 0.4em 0.5em 0.4em;box-sizing: border-box;padding-bottom: 0.4em;background-color: white;}#sk-container-id-1 div.sk-label label {font-family: monospace;font-weight: bold;display: inline-block;line-height: 1.2em;}#sk-container-id-1 div.sk-label-container {text-align: center;}#sk-container-id-1 div.sk-container {/* jupyter's `normalize.less` sets `[hidden] { display: none; }` but bootstrap.min.css set `[hidden] { display: none !important; }` so we also need the `!important` here to be able to override the default hidden behavior on the sphinx rendered scikit-learn.org. See: https://github.com/scikit-learn/scikit-learn/issues/21755 */display: inline-block !important;position: relative;}#sk-container-id-1 div.sk-text-repr-fallback {display: none;}</style><div id=\"sk-container-id-1\" class=\"sk-top-container\"><div class=\"sk-text-repr-fallback\"><pre>RandomForestRegressor()</pre><b>In a Jupyter environment, please rerun this cell to show the HTML representation or trust the notebook. <br />On GitHub, the HTML representation is unable to render, please try loading this page with nbviewer.org.</b></div><div class=\"sk-container\" hidden><div class=\"sk-item\"><div class=\"sk-estimator sk-toggleable\"><input class=\"sk-toggleable__control sk-hidden--visually\" id=\"sk-estimator-id-1\" type=\"checkbox\" checked><label for=\"sk-estimator-id-1\" class=\"sk-toggleable__label sk-toggleable__label-arrow\">RandomForestRegressor</label><div class=\"sk-toggleable__content\"><pre>RandomForestRegressor()</pre></div></div></div></div></div>"
      ],
      "text/plain": [
       "RandomForestRegressor()"
      ]
     },
     "execution_count": 118,
     "metadata": {},
     "output_type": "execute_result"
    }
   ],
   "source": [
    "model.fit(x_train, y_train)"
   ]
  },
  {
   "cell_type": "code",
   "execution_count": 120,
   "id": "b410564c",
   "metadata": {},
   "outputs": [],
   "source": [
    "pred = model.predict(x_test) "
   ]
  },
  {
   "cell_type": "code",
   "execution_count": 122,
   "id": "6aac80ae",
   "metadata": {},
   "outputs": [
    {
     "data": {
      "text/plain": [
       "0.13593634056949577"
      ]
     },
     "execution_count": 122,
     "metadata": {},
     "output_type": "execute_result"
    }
   ],
   "source": [
    "model.score(x_test, y_test)   "
   ]
  },
  {
   "cell_type": "code",
   "execution_count": null,
   "id": "2f39002c",
   "metadata": {},
   "outputs": [],
   "source": []
  },
  {
   "cell_type": "code",
   "execution_count": 82,
   "id": "c30efbd5",
   "metadata": {},
   "outputs": [],
   "source": [
    "class Gas:\n",
    "    def __init__(self,df,column_name):\n",
    "            self.features = df[[\"hour\",\"minute\",\"second\",column_name]] \n",
    "            self.model = RandomForestRegressor() \n",
    "            self.x = np.array(df[[\"hour\",\"minute\",\"second\"]]) \n",
    "            self.y = np.array(df[column_name]).reshape(-1,1)  \n",
    "            self.x_train, self.x_test, self.y_train, self.y_test = train_test_split(self.x, self.y, test_size = 0.2) \n",
    "            \n",
    "    def train(self): \n",
    "        try:\n",
    "            self.model.fit(self.x_train, self.y_train) \n",
    "            print(\"Training Completed!\") \n",
    "        except Exception as e:\n",
    "            print(e) \n",
    "    def get_accuracy(self):\n",
    "        y_pred = self.model.predict(self.x_test)  \n",
    "        accuracy = self.model.score(self.y_test, y_pred)  \n",
    "        return f\"{accuracy:.2f}\" "
   ]
  },
  {
   "cell_type": "code",
   "execution_count": 83,
   "id": "976ceea0",
   "metadata": {},
   "outputs": [],
   "source": [
    "h = Gas(df,'hydrogen') "
   ]
  },
  {
   "cell_type": "code",
   "execution_count": 84,
   "id": "62c1678e",
   "metadata": {},
   "outputs": [
    {
     "name": "stdout",
     "output_type": "stream",
     "text": [
      "Training Completed!\n"
     ]
    },
    {
     "name": "stderr",
     "output_type": "stream",
     "text": [
      "C:\\Users\\Stark\\AppData\\Local\\Temp\\ipykernel_35420\\2276109292.py:11: DataConversionWarning: A column-vector y was passed when a 1d array was expected. Please change the shape of y to (n_samples,), for example using ravel().\n",
      "  self.model.fit(self.x_train, self.y_train)\n"
     ]
    }
   ],
   "source": [
    "h.train() "
   ]
  },
  {
   "cell_type": "code",
   "execution_count": 85,
   "id": "c61e0734",
   "metadata": {},
   "outputs": [
    {
     "ename": "ValueError",
     "evalue": "X has 1 features, but RandomForestRegressor is expecting 3 features as input.",
     "output_type": "error",
     "traceback": [
      "\u001b[1;31m---------------------------------------------------------------------------\u001b[0m",
      "\u001b[1;31mValueError\u001b[0m                                Traceback (most recent call last)",
      "Cell \u001b[1;32mIn[85], line 1\u001b[0m\n\u001b[1;32m----> 1\u001b[0m h\u001b[38;5;241m.\u001b[39mget_accuracy()\n",
      "Cell \u001b[1;32mIn[82], line 17\u001b[0m, in \u001b[0;36mGas.get_accuracy\u001b[1;34m(self)\u001b[0m\n\u001b[0;32m     15\u001b[0m \u001b[38;5;28;01mdef\u001b[39;00m \u001b[38;5;21mget_accuracy\u001b[39m(\u001b[38;5;28mself\u001b[39m):\n\u001b[0;32m     16\u001b[0m     y_pred \u001b[38;5;241m=\u001b[39m \u001b[38;5;28mself\u001b[39m\u001b[38;5;241m.\u001b[39mmodel\u001b[38;5;241m.\u001b[39mpredict(\u001b[38;5;28mself\u001b[39m\u001b[38;5;241m.\u001b[39mx_test)  \n\u001b[1;32m---> 17\u001b[0m     accuracy \u001b[38;5;241m=\u001b[39m \u001b[38;5;28mself\u001b[39m\u001b[38;5;241m.\u001b[39mmodel\u001b[38;5;241m.\u001b[39mscore(\u001b[38;5;28mself\u001b[39m\u001b[38;5;241m.\u001b[39my_test, y_pred)  \n\u001b[0;32m     18\u001b[0m     \u001b[38;5;28;01mreturn\u001b[39;00m \u001b[38;5;124mf\u001b[39m\u001b[38;5;124m\"\u001b[39m\u001b[38;5;132;01m{\u001b[39;00maccuracy\u001b[38;5;132;01m:\u001b[39;00m\u001b[38;5;124m.2f\u001b[39m\u001b[38;5;132;01m}\u001b[39;00m\u001b[38;5;124m\"\u001b[39m\n",
      "File \u001b[1;32m~\\anaconda3\\Lib\\site-packages\\sklearn\\base.py:722\u001b[0m, in \u001b[0;36mRegressorMixin.score\u001b[1;34m(self, X, y, sample_weight)\u001b[0m\n\u001b[0;32m    680\u001b[0m \u001b[38;5;250m\u001b[39m\u001b[38;5;124;03m\"\"\"Return the coefficient of determination of the prediction.\u001b[39;00m\n\u001b[0;32m    681\u001b[0m \n\u001b[0;32m    682\u001b[0m \u001b[38;5;124;03mThe coefficient of determination :math:`R^2` is defined as\u001b[39;00m\n\u001b[1;32m   (...)\u001b[0m\n\u001b[0;32m    717\u001b[0m \u001b[38;5;124;03m:class:`~sklearn.multioutput.MultiOutputRegressor`).\u001b[39;00m\n\u001b[0;32m    718\u001b[0m \u001b[38;5;124;03m\"\"\"\u001b[39;00m\n\u001b[0;32m    720\u001b[0m \u001b[38;5;28;01mfrom\u001b[39;00m \u001b[38;5;21;01m.\u001b[39;00m\u001b[38;5;21;01mmetrics\u001b[39;00m \u001b[38;5;28;01mimport\u001b[39;00m r2_score\n\u001b[1;32m--> 722\u001b[0m y_pred \u001b[38;5;241m=\u001b[39m \u001b[38;5;28mself\u001b[39m\u001b[38;5;241m.\u001b[39mpredict(X)\n\u001b[0;32m    723\u001b[0m \u001b[38;5;28;01mreturn\u001b[39;00m r2_score(y, y_pred, sample_weight\u001b[38;5;241m=\u001b[39msample_weight)\n",
      "File \u001b[1;32m~\\anaconda3\\Lib\\site-packages\\sklearn\\ensemble\\_forest.py:981\u001b[0m, in \u001b[0;36mForestRegressor.predict\u001b[1;34m(self, X)\u001b[0m\n\u001b[0;32m    979\u001b[0m check_is_fitted(\u001b[38;5;28mself\u001b[39m)\n\u001b[0;32m    980\u001b[0m \u001b[38;5;66;03m# Check data\u001b[39;00m\n\u001b[1;32m--> 981\u001b[0m X \u001b[38;5;241m=\u001b[39m \u001b[38;5;28mself\u001b[39m\u001b[38;5;241m.\u001b[39m_validate_X_predict(X)\n\u001b[0;32m    983\u001b[0m \u001b[38;5;66;03m# Assign chunk of trees to jobs\u001b[39;00m\n\u001b[0;32m    984\u001b[0m n_jobs, _, _ \u001b[38;5;241m=\u001b[39m _partition_estimators(\u001b[38;5;28mself\u001b[39m\u001b[38;5;241m.\u001b[39mn_estimators, \u001b[38;5;28mself\u001b[39m\u001b[38;5;241m.\u001b[39mn_jobs)\n",
      "File \u001b[1;32m~\\anaconda3\\Lib\\site-packages\\sklearn\\ensemble\\_forest.py:602\u001b[0m, in \u001b[0;36mBaseForest._validate_X_predict\u001b[1;34m(self, X)\u001b[0m\n\u001b[0;32m    599\u001b[0m \u001b[38;5;250m\u001b[39m\u001b[38;5;124;03m\"\"\"\u001b[39;00m\n\u001b[0;32m    600\u001b[0m \u001b[38;5;124;03mValidate X whenever one tries to predict, apply, predict_proba.\"\"\"\u001b[39;00m\n\u001b[0;32m    601\u001b[0m check_is_fitted(\u001b[38;5;28mself\u001b[39m)\n\u001b[1;32m--> 602\u001b[0m X \u001b[38;5;241m=\u001b[39m \u001b[38;5;28mself\u001b[39m\u001b[38;5;241m.\u001b[39m_validate_data(X, dtype\u001b[38;5;241m=\u001b[39mDTYPE, accept_sparse\u001b[38;5;241m=\u001b[39m\u001b[38;5;124m\"\u001b[39m\u001b[38;5;124mcsr\u001b[39m\u001b[38;5;124m\"\u001b[39m, reset\u001b[38;5;241m=\u001b[39m\u001b[38;5;28;01mFalse\u001b[39;00m)\n\u001b[0;32m    603\u001b[0m \u001b[38;5;28;01mif\u001b[39;00m issparse(X) \u001b[38;5;129;01mand\u001b[39;00m (X\u001b[38;5;241m.\u001b[39mindices\u001b[38;5;241m.\u001b[39mdtype \u001b[38;5;241m!=\u001b[39m np\u001b[38;5;241m.\u001b[39mintc \u001b[38;5;129;01mor\u001b[39;00m X\u001b[38;5;241m.\u001b[39mindptr\u001b[38;5;241m.\u001b[39mdtype \u001b[38;5;241m!=\u001b[39m np\u001b[38;5;241m.\u001b[39mintc):\n\u001b[0;32m    604\u001b[0m     \u001b[38;5;28;01mraise\u001b[39;00m \u001b[38;5;167;01mValueError\u001b[39;00m(\u001b[38;5;124m\"\u001b[39m\u001b[38;5;124mNo support for np.int64 index based sparse matrices\u001b[39m\u001b[38;5;124m\"\u001b[39m)\n",
      "File \u001b[1;32m~\\anaconda3\\Lib\\site-packages\\sklearn\\base.py:588\u001b[0m, in \u001b[0;36mBaseEstimator._validate_data\u001b[1;34m(self, X, y, reset, validate_separately, **check_params)\u001b[0m\n\u001b[0;32m    585\u001b[0m     out \u001b[38;5;241m=\u001b[39m X, y\n\u001b[0;32m    587\u001b[0m \u001b[38;5;28;01mif\u001b[39;00m \u001b[38;5;129;01mnot\u001b[39;00m no_val_X \u001b[38;5;129;01mand\u001b[39;00m check_params\u001b[38;5;241m.\u001b[39mget(\u001b[38;5;124m\"\u001b[39m\u001b[38;5;124mensure_2d\u001b[39m\u001b[38;5;124m\"\u001b[39m, \u001b[38;5;28;01mTrue\u001b[39;00m):\n\u001b[1;32m--> 588\u001b[0m     \u001b[38;5;28mself\u001b[39m\u001b[38;5;241m.\u001b[39m_check_n_features(X, reset\u001b[38;5;241m=\u001b[39mreset)\n\u001b[0;32m    590\u001b[0m \u001b[38;5;28;01mreturn\u001b[39;00m out\n",
      "File \u001b[1;32m~\\anaconda3\\Lib\\site-packages\\sklearn\\base.py:389\u001b[0m, in \u001b[0;36mBaseEstimator._check_n_features\u001b[1;34m(self, X, reset)\u001b[0m\n\u001b[0;32m    386\u001b[0m     \u001b[38;5;28;01mreturn\u001b[39;00m\n\u001b[0;32m    388\u001b[0m \u001b[38;5;28;01mif\u001b[39;00m n_features \u001b[38;5;241m!=\u001b[39m \u001b[38;5;28mself\u001b[39m\u001b[38;5;241m.\u001b[39mn_features_in_:\n\u001b[1;32m--> 389\u001b[0m     \u001b[38;5;28;01mraise\u001b[39;00m \u001b[38;5;167;01mValueError\u001b[39;00m(\n\u001b[0;32m    390\u001b[0m         \u001b[38;5;124mf\u001b[39m\u001b[38;5;124m\"\u001b[39m\u001b[38;5;124mX has \u001b[39m\u001b[38;5;132;01m{\u001b[39;00mn_features\u001b[38;5;132;01m}\u001b[39;00m\u001b[38;5;124m features, but \u001b[39m\u001b[38;5;132;01m{\u001b[39;00m\u001b[38;5;28mself\u001b[39m\u001b[38;5;241m.\u001b[39m\u001b[38;5;18m__class__\u001b[39m\u001b[38;5;241m.\u001b[39m\u001b[38;5;18m__name__\u001b[39m\u001b[38;5;132;01m}\u001b[39;00m\u001b[38;5;124m \u001b[39m\u001b[38;5;124m\"\u001b[39m\n\u001b[0;32m    391\u001b[0m         \u001b[38;5;124mf\u001b[39m\u001b[38;5;124m\"\u001b[39m\u001b[38;5;124mis expecting \u001b[39m\u001b[38;5;132;01m{\u001b[39;00m\u001b[38;5;28mself\u001b[39m\u001b[38;5;241m.\u001b[39mn_features_in_\u001b[38;5;132;01m}\u001b[39;00m\u001b[38;5;124m features as input.\u001b[39m\u001b[38;5;124m\"\u001b[39m\n\u001b[0;32m    392\u001b[0m     )\n",
      "\u001b[1;31mValueError\u001b[0m: X has 1 features, but RandomForestRegressor is expecting 3 features as input."
     ]
    }
   ],
   "source": [
    "h.get_accuracy() "
   ]
  },
  {
   "cell_type": "code",
   "execution_count": 53,
   "id": "bdec36f3",
   "metadata": {},
   "outputs": [
    {
     "data": {
      "text/plain": [
       "((44,), (44,))"
      ]
     },
     "execution_count": 53,
     "metadata": {},
     "output_type": "execute_result"
    }
   ],
   "source": [
    "df['hydrogen'].shape , df[\"timestamp\"].shape "
   ]
  },
  {
   "cell_type": "code",
   "execution_count": 59,
   "id": "652059e9",
   "metadata": {},
   "outputs": [
    {
     "data": {
      "text/plain": [
       "<Axes: >"
      ]
     },
     "execution_count": 59,
     "metadata": {},
     "output_type": "execute_result"
    },
    {
     "data": {
      "image/png": "[encoded data removed]",
      "text/plain": [
       "<Figure size 640x480 with 1 Axes>"
      ]
     },
     "metadata": {},
     "output_type": "display_data"
    }
   ],
   "source": [
    "df.plot() "
   ]
  },
  {
   "cell_type": "code",
   "execution_count": 63,
   "id": "d4fed963",
   "metadata": {},
   "outputs": [],
   "source": [
    "df[\"hour\"] = df[\"timestamp\"].dt.hour "
   ]
  },
  {
   "cell_type": "code",
   "execution_count": 64,
   "id": "07c9f081",
   "metadata": {},
   "outputs": [
    {
     "data": {
      "text/plain": [
       "0     19\n",
       "1     19\n",
       "2     19\n",
       "3     19\n",
       "4     19\n",
       "5     19\n",
       "6     19\n",
       "7     19\n",
       "8     19\n",
       "9     19\n",
       "10    19\n",
       "11    19\n",
       "12    19\n",
       "13    19\n",
       "14    19\n",
       "15    19\n",
       "16    19\n",
       "17    19\n",
       "18    19\n",
       "19    19\n",
       "20    19\n",
       "21    19\n",
       "22    19\n",
       "23    19\n",
       "24    19\n",
       "25    19\n",
       "26    19\n",
       "27    19\n",
       "28    19\n",
       "29    19\n",
       "30    19\n",
       "31    19\n",
       "32    19\n",
       "33    19\n",
       "34    19\n",
       "35    19\n",
       "36    19\n",
       "37    19\n",
       "38    19\n",
       "39    19\n",
       "40    19\n",
       "41    19\n",
       "42    19\n",
       "43    19\n",
       "Name: hour, dtype: int64"
      ]
     },
     "execution_count": 64,
     "metadata": {},
     "output_type": "execute_result"
    }
   ],
   "source": [
    "df[\"hour\"]"
   ]
  },
  {
   "cell_type": "code",
   "execution_count": null,
   "id": "e9fbb270",
   "metadata": {},
   "outputs": [],
   "source": []
  }
 ],
 "metadata": {
  "kernelspec": {
   "display_name": "Python 3 (ipykernel)",
   "language": "python",
   "name": "python3"
  },
  "language_info": {
   "codemirror_mode": {
    "name": "ipython",
    "version": 3
   },
   "file_extension": ".py",
   "mimetype": "text/x-python",
   "name": "python",
   "nbconvert_exporter": "python",
   "pygments_lexer": "ipython3",
   "version": "3.11.3"
  }
 },
 "nbformat": 4,
 "nbformat_minor": 5
}
